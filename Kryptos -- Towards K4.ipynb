{
 "cells": [
  {
   "cell_type": "markdown",
   "metadata": {},
   "source": [
    "# Kryptos — The Unsolved Fourth Tableau\n",
    "\n",
    "## Assumptions and Facts\n",
    "\n",
    "* The length of K4 is 97 characters. \n",
    "* The 64th-74th characters (1-indexed) of the code-text \"NYPVTTMZFPK\" form a one-to-one correspondence with plaintext \"BERLINCLOCK\".\n",
    "* Jim Sanborn (JS) has hinted at a masking technique and an encryption technique (of unknown order and method) in the creation of K4. \n",
    "* K1 and K2 were encrypted using a Vigenere cipher, with a \"KRYPTOS\"-keyed English alphabet with keywords \"PALIMPSEST\" and \"ABSCISSA,\" respectively.\n",
    "* K3 was a transposition problem; that is to say, it was a rather difficult word-scramble puzzle. \n",
    "* The plaintext of K4 is in English.\n",
    "\n",
    "## Some Jargon\n",
    "\n",
    "Let variable $k4$ represent the string of the fourth tableau of Kryptos, and $soln$ represent the solution plaintext string. Suppose that there are two functions $f: s^n \\rightarrow s^n$ and $g: s^n \\rightarrow s^n$ involved in encrypting K4 such that $f(g(soln)) = k4$. Variable $s$ represents any arbitrary character in the English alphabet (case-agnostic); $n$ represents the number of characters; that is to say, both $f$ and $g$ are (hopefully) injective functions from strings of length n to other strings of length n. We make the assumption of injectivity based on the fact that there is only one plain-text solution.\n",
    "\n",
    "We assume that $f$ and $g$ are invertible functions; that is to say, $g^{-1}(f^{-1}(k4)) =k4\\_solved$.\n",
    "\n",
    "This section will be updated as a reason more about the properties of these functions."
   ]
  },
  {
   "cell_type": "markdown",
   "metadata": {},
   "source": [
    "## My Steps\n",
    "\n",
    "* I've written some cryptographic functions in Python3 dedicated to solving Kryptos, as well as other cryptanalytic techniques like Caesar cipher-solving, Vigenere cipher-solving (with custom-keyed alphabets), frequency analysis, and others.\n",
    "\n",
    "### Proof of Concept\n",
    "\n",
    "Here's my code showing that it can solve K1 and K2. Whitespace must be added manually; there is no whitespace in the original tableau text. K3 is a tougher beast."
   ]
  },
  {
   "cell_type": "code",
   "execution_count": 18,
   "metadata": {},
   "outputs": [
    {
     "name": "stdout",
     "output_type": "stream",
     "text": [
      "Plaintext of K1: BETWEENSUBTLESHADINGANDTHEABSENCEOFLIGHTLIESTHENUANCEOFIQLUSION\n",
      "Plaintext of K2: ITWASTOTALLYINVISIBLEHOWSTHATPOSSIBLE?THEYUSEDTHEEARTHSMAGNETICFIELDXTHEINFORMATIONWASGATHEREDANDTRANSMITTEDUNDERGRUUNDTOANUNKNOWNLOCATIONXDOESLANGLEYKNOWABOUTTHIS?THEYSHOULDITSBURIEDOUTTHERESOMEWHEREXWHOKNOWSTHEEXACTLOCATION?ONLYWWTHISWASHISLASTMESSAGEXTHIRTYEIGHTDEGREESFIFTYSEVENMINUTESSIXPOINTFIVESECONDSNORTHSEVENTYSEVENDEGREESEIGHTMINUTESFORTYFOURSECONDSWESTIDBYROWS\n"
     ]
    }
   ],
   "source": [
    "import string\n",
    "\n",
    "k1 = 'EMUFPHZLRFAXYUSDJKZLDKRNSHGNFIVJYQTQUXQBQVYUVLLTREVJYQTMKYRDMFD'\n",
    "k2 = \"VFPJUDEEHZWETZYVGWHKKQETGFQJNCEGGWHKK?DQMCPFQZDQMMIAGPFXHQRLGTIMVMZJANQLVKQEDAGDVFRPJUNGEUNAQZGZLECGYUXUEENJTBJLBQCRTBJDFHRRYIZETKZEMVDUFKSJHKFWHKUWQLSZFTIHHDDDUVH?DWKBFUFPWNTDFIYCUQZEREEVLDKFEZMOQQJLTTUGSYQPFEUNLAVIDXFLGGTEZ?FKZBSFDQVGOGIPUFXHHDRKFFHQNTGPUAECNUVPDJMQCLQUMUNEDFQELZZVRRGKFFVOEEXBDMVPNFQXEZLGREDNQFMPNZGLFLPMRJQYALMGNUVPDXVKPDQUMEBEDMHDAFMJGZNUPLGEWJLLAETG\"\n",
    "k3 = 'ENDYAHROHNLSRHEOCPTEOIBIDYSHNAIACHTNREYULDSLLSLLNOHSNOSMRWXMNETPRNGATIHNRARPESLNNELEBLPIIACAEWMTWNDITEENRAHCTENEUDRETNHAEOETFOLSEDTIWENHAEIOYTEYQHEENCTAYCREIFTBRSPAMHHEWENATAMATEGYEERLBTEEFOASFIOTUETUAEOTOARMAEERTNRTIBSEDDNIAAHTTMSTEWPIEROAGRIEWFEBAECTDDHILCEIHSITEGOEAOSDDRYDLORITRKLMLEHAGTDHARDPNEOHMGFMFEUHEECDMRIPFEIMEHNLSSTTRTVDOHW?'\n",
    "\n",
    "def decodeVigenere(msg, key, tabula=string.ascii_lowercase):\n",
    "    decoded = list(msg)\n",
    "    meaningfulIndex = 0\n",
    "    for i in range(len(msg)):\n",
    "        try:\n",
    "            indexOfChar = tabula.index(msg[i])\n",
    "            indexOfKeyChar = tabula.index(key[meaningfulIndex % len(key)])\n",
    "            targetIndex = (indexOfChar - indexOfKeyChar + len(tabula)) % len(tabula)\n",
    "            decoded[i] = tabula[targetIndex] \n",
    "            meaningfulIndex += 1\n",
    "        except ValueError:\n",
    "            decoded[i] = msg[i]\n",
    "    return ''.join(decoded)\n",
    "\n",
    "def tabulaOf(key, prepend=True, basis=string.ascii_lowercase):\n",
    "    # used for encoding Kryptos!\n",
    "    alphabetSubstring = tableauFilter(key, basis)\n",
    "    if prepend:\n",
    "        return key + alphabetSubstring\n",
    "    else:\n",
    "        return alphabetSubstring + key\n",
    "    \n",
    "def tableauFilter(key, alphabet):\n",
    "    regex = re.compile('[' + key + ']')\n",
    "    return regex.sub('', alphabet)\n",
    "    \n",
    "tabula_kryptos = tabulaOf(\"KRYPTOS\", prepend=True, basis=string.ascii_uppercase);\n",
    "k1_plain = decodeVigenere(k1, \"PALIMPSEST\", tabulaOf(\"KRYPTOS\", prepend=True, basis=string.ascii_uppercase))\n",
    "print(\"Plaintext of K1:\", k1_plain)\n",
    "k2_plain = decodeVigenere(k2, \"ABSCISSA\", tabulaOf(\"KRYPTOS\", prepend=True, basis=string.ascii_uppercase))\n",
    "print(\"Plaintext of K2:\", k2_plain)\n"
   ]
  },
  {
   "cell_type": "markdown",
   "metadata": {},
   "source": [
    "Note: the end of the K2 plaintext contains an error from the sculpture. \"IDBYROWS\" should be replaced by \"LAYERTWO\".\n"
   ]
  },
  {
   "cell_type": "markdown",
   "metadata": {},
   "source": [
    "## Step 0: Frequency Analysis"
   ]
  },
  {
   "cell_type": "code",
   "execution_count": 19,
   "metadata": {},
   "outputs": [],
   "source": [
    "# Key dependencies\n",
    "from collections import Counter # frequency analysis data structure\n",
    "import matplotlib.pyplot as plt # draw diagrams\n",
    "import string # for string manipulation\n",
    "import re # for string filtering\n",
    "import numpy as np"
   ]
  },
  {
   "cell_type": "code",
   "execution_count": 20,
   "metadata": {},
   "outputs": [
    {
     "name": "stdout",
     "output_type": "stream",
     "text": [
      "OBKRUOXOGHULBSOLIFBBWFLRVQQPRNGKSSOTWTQSJQSSEKZZWATJKLUDIAWINFBNYPVTTMZFPKWGDKZXTJCDIGKUHUAUEKCAR\n",
      "RACKEUAUHUKGIDCJTXZKDGWKPFZMTTVPYNBFNIWAIDULKJTAWZZKESSQJSQTWTOSSKGNRPQQVRLFWBBFILOSBLUHGOXOURKBO\n"
     ]
    }
   ],
   "source": [
    "k4 = 'OBKRUOXOGHULBSOLIFBBWFLRVQQPRNGKSSOTWTQSJQSSEKZZWATJKLUDIAWINFBNYPVTTMZFPKWGDKZXTJCDIGKUHUAUEKCAR'\n",
    "print(k4) \n",
    "print(k4[::-1]) # K4, but reversed"
   ]
  },
  {
   "cell_type": "markdown",
   "metadata": {},
   "source": [
    "Basic frequency analysis on the plaintext of K4 yields this result:\n"
   ]
  },
  {
   "cell_type": "code",
   "execution_count": 21,
   "metadata": {},
   "outputs": [
    {
     "name": "stdout",
     "output_type": "stream",
     "text": [
      "Counter({'k': 8, 'u': 6, 's': 6, 't': 6, 'o': 5, 'b': 5, 'w': 5, 'r': 4, 'g': 4, 'l': 4, 'i': 4, 'f': 4, 'q': 4, 'z': 4, 'a': 4, 'p': 3, 'n': 3, 'j': 3, 'd': 3, 'x': 2, 'h': 2, 'v': 2, 'e': 2, 'c': 2, 'y': 1, 'm': 1})\n",
      "Number of distinct letters:  26\n"
     ]
    }
   ],
   "source": [
    "def frequencies(string, ignore_case=True, alphabet=string.ascii_lowercase):\n",
    "    if (ignore_case):\n",
    "        string = string.lower()\n",
    "    counter = Counter()\n",
    "    for c in string:\n",
    "        if c in alphabet:\n",
    "            counter[c] += 1\n",
    "    return counter\n",
    "\n",
    "frequency_table = frequencies(k4)\n",
    "print(frequency_table)\n",
    "print(\"Number of distinct letters: \", len(frequency_table))\n"
   ]
  },
  {
   "cell_type": "markdown",
   "metadata": {},
   "source": [
    "Note that this uses all 26 letters in the English alphabet. Here's a histogram:\n"
   ]
  },
  {
   "cell_type": "code",
   "execution_count": 22,
   "metadata": {},
   "outputs": [
    {
     "data": {
      "image/png": "[encoded data removed]",
      "text/plain": [
       "<Figure size 432x288 with 1 Axes>"
      ]
     },
     "metadata": {
      "needs_background": "light"
     },
     "output_type": "display_data"
    }
   ],
   "source": [
    "labels, values = zip(*frequency_table.most_common())\n",
    "indexes = np.arange(len(labels))\n",
    "width = 1\n",
    "\n",
    "plt.bar(indexes, values, width, edgecolor=\"black\")\n",
    "plt.xticks(indexes + width * 0.5, labels)\n",
    "plt.show()\n"
   ]
  },
  {
   "cell_type": "markdown",
   "metadata": {},
   "source": [
    "For comparison, here's the English language's letter frequency graph:"
   ]
  },
  {
   "cell_type": "code",
   "execution_count": 23,
   "metadata": {},
   "outputs": [
    {
     "data": {
      "image/png": "[encoded data removed]",
      "text/plain": [
       "<Figure size 432x288 with 1 Axes>"
      ]
     },
     "metadata": {
      "needs_background": "light"
     },
     "output_type": "display_data"
    }
   ],
   "source": [
    "english_frequencies = Counter({'e' : 21912, 't' : 16587, 'a' : 14810, 'o':14003, 'i':13318, 'n':12666, 's':11450, 'r':10977, 'h':10795, 'd':7874, 'l':7253, 'u':5246, 'c':4943, 'm':4761, 'f':4200, 'y':3853, 'w':3819, 'g':3693, 'p':3316, 'b':2715, 'v':2019, 'k':1257, 'x':315, 'q':205, 'j':188, 'z':128})\n",
    "labels, values = zip(*english_frequencies.items())\n",
    "indexes = np.arange(len(labels))\n",
    "width = 1\n",
    "\n",
    "plt.bar(indexes, values, width, edgecolor=\"black\")\n",
    "plt.xticks(indexes + width * 0.5, labels)\n",
    "plt.show()"
   ]
  },
  {
   "cell_type": "markdown",
   "metadata": {},
   "source": [
    "The data was sourced from [this website](http://pi.math.cornell.edu/~mec/2003-2004/cryptography/subs/frequencies.html), based on a sample of 40000 words."
   ]
  },
  {
   "cell_type": "markdown",
   "metadata": {},
   "source": [
    "As an aside: note that the maximum frequency of K4 is 8 — there's simply not that many letters to look at. **But what if we took the true letter frequencies of the English language, and quantized them into a 0-8 relative scale?**\n",
    "\n",
    "To see this in action:"
   ]
  },
  {
   "cell_type": "code",
   "execution_count": 24,
   "metadata": {},
   "outputs": [
    {
     "data": {
      "image/png": "[encoded data removed]",
      "text/plain": [
       "<Figure size 432x288 with 1 Axes>"
      ]
     },
     "metadata": {
      "needs_background": "light"
     },
     "output_type": "display_data"
    }
   ],
   "source": [
    "e_max = english_frequencies.most_common(1)[0][1]\n",
    "partitions = 8 # equivalent to calling 'k4.most_common(1)[0][1]''\n",
    "english_quantized = {k: np.ceil(v / e_max * 8) for k, v in english_frequencies.items()} # yes, I'm being sloppy with ceilings\n",
    "labels, values = zip(*english_quantized.items())\n",
    "indexes = np.arange(len(labels))\n",
    "width = 1\n",
    "\n",
    "plt.bar(indexes, values, width, edgecolor=\"black\")\n",
    "plt.xticks(indexes + width * 0.5, labels)\n",
    "plt.show()"
   ]
  },
  {
   "cell_type": "markdown",
   "metadata": {},
   "source": [
    "Hmmmm. That's a little close, but not enough to convince me.\n",
    "\n",
    "As a next step, let's try doing a [Kolmogorov-Smirnov analysis](https://en.wikipedia.org/wiki/Kolmogorov%E2%80%93Smirnov_test) on our sample of English letters vs. K4 based on frequency rank. That'll tell us the likelihood that the characters in K4 are sampled from an English alphabet with similar frequencies to natural English. **THIS DOES NOT SAY THIS A MONOALPHABETIC CIPHER WAS USED,** just that the encryption techniques did not change the underlying letter distribution.\n",
    "\n",
    "First, convert the frequency dictionaries to store relative instead of absolute frequency (% of a certain character instead of #):"
   ]
  },
  {
   "cell_type": "code",
   "execution_count": 25,
   "metadata": {},
   "outputs": [
    {
     "name": "stdout",
     "output_type": "stream",
     "text": [
      "English language:  {'e': 0.12019549870270922, 't': 0.09098588613462202, 'a': 0.08123837786542185, 'o': 0.07681168165087793, 'i': 0.07305420097310522, 'n': 0.06947773761265585, 's': 0.06280752373795274, 'r': 0.06021294218965129, 'h': 0.05921460425774672, 'd': 0.043191828988003486, 'l': 0.03978541219837304, 'u': 0.02877626808116158, 'c': 0.027114199985738028, 'm': 0.02611586205383345, 'f': 0.02303856765933638, 'y': 0.021135143140815018, 'w': 0.020948640450239437, 'g': 0.020257483420459344, 'p': 0.018189497704371293, 'b': 0.014892788379785303, 'v': 0.011074968596238131, 'k': 0.006895114178044245, 'x': 0.0017278925744502285, 'q': 0.0011245015167057042, 'j': 0.0010312501714179142, 'z': 0.0007021277762845373}\n",
      "\n",
      "\n",
      "Kryptos 4:  {'k': 0.08247422680412371, 'u': 0.061855670103092786, 's': 0.061855670103092786, 't': 0.061855670103092786, 'o': 0.05154639175257732, 'b': 0.05154639175257732, 'w': 0.05154639175257732, 'r': 0.041237113402061855, 'g': 0.041237113402061855, 'l': 0.041237113402061855, 'i': 0.041237113402061855, 'f': 0.041237113402061855, 'q': 0.041237113402061855, 'z': 0.041237113402061855, 'a': 0.041237113402061855, 'p': 0.030927835051546393, 'n': 0.030927835051546393, 'j': 0.030927835051546393, 'd': 0.030927835051546393, 'x': 0.020618556701030927, 'h': 0.020618556701030927, 'v': 0.020618556701030927, 'e': 0.020618556701030927, 'c': 0.020618556701030927, 'y': 0.010309278350515464, 'm': 0.010309278350515464}\n"
     ]
    }
   ],
   "source": [
    "n_english = sum(english_frequencies.values())\n",
    "n_kryptos = sum(frequency_table.values())\n",
    "english_relative_freq = {k:(v/n_english) for k, v in english_frequencies.items()}\n",
    "\n",
    "temp = {k:(v/n_kryptos) for k, v in frequency_table.items()}\n",
    "kryptos_relative_freq = dict(sorted(temp.items(), key=lambda x: x[1], reverse=True))\n",
    "\n",
    "print(\"English language: \",english_relative_freq)\n",
    "print('\\n')\n",
    "print(\"Kryptos 4: \", kryptos_relative_freq)"
   ]
  },
  {
   "cell_type": "markdown",
   "metadata": {},
   "source": [
    "Just by eyeballing it, the Kryptos 4 distribution seems a little \"flatter.\" Let's confirm this with some graphs: "
   ]
  },
  {
   "cell_type": "code",
   "execution_count": 26,
   "metadata": {},
   "outputs": [
    {
     "data": {
      "image/png": "[encoded data removed]",
      "text/plain": [
       "<Figure size 432x288 with 1 Axes>"
      ]
     },
     "metadata": {
      "needs_background": "light"
     },
     "output_type": "display_data"
    },
    {
     "data": {
      "image/png": "[encoded data removed]",
      "text/plain": [
       "<Figure size 432x288 with 1 Axes>"
      ]
     },
     "metadata": {
      "needs_background": "light"
     },
     "output_type": "display_data"
    }
   ],
   "source": [
    "labels, values = zip(*english_relative_freq.items())\n",
    "indexes = np.arange(len(labels))\n",
    "width = 1\n",
    "\n",
    "plt.bar(indexes, values, width, edgecolor=\"black\")\n",
    "plt.xticks(indexes + width * 0.5, labels)\n",
    "\n",
    "plt.show()\n",
    "\n",
    "labels2, values2 = zip(*kryptos_relative_freq.items())\n",
    "indexes2 = np.arange(len(labels2))\n",
    "width2 = 1\n",
    "\n",
    "plt.bar(indexes2, values2, width2, edgecolor=\"black\", color=\"red\")\n",
    "plt.xticks(indexes2 + width2 * 0.5, labels2)\n",
    "\n",
    "plt.show()"
   ]
  },
  {
   "cell_type": "markdown",
   "metadata": {},
   "source": [
    "That seems right. Now for the test.\n",
    "\n",
    "**Null hypothesis:** The distributions of the two samples are the same."
   ]
  },
  {
   "cell_type": "code",
   "execution_count": 27,
   "metadata": {},
   "outputs": [
    {
     "name": "stdout",
     "output_type": "stream",
     "text": [
      "Ks_2sampResult(statistic=0.30769230769230765, pvalue=0.1382739894213808)\n"
     ]
    }
   ],
   "source": [
    "import scipy.stats as stats\n",
    "stat = stats.ks_2samp(list(english_relative_freq.values()), list(kryptos_relative_freq.values()))\n",
    "print(stat)\n"
   ]
  },
  {
   "cell_type": "markdown",
   "metadata": {},
   "source": [
    "Since `pvalue > 0.05`, we fail to reject the null hypothesis. This means there's a non-trivial chance that the letters come from the same distribution, but it does not **prove** or **disprove** it. Statistically speaking, we would not be \"surprised\" to see this result *given* the two distributions are the same.\n",
    "\n",
    "This leads to a key hypothesis: that the masking and encoding techniques do not alter the rank-order frequency distribution of the plaintext."
   ]
  },
  {
   "cell_type": "markdown",
   "metadata": {},
   "source": [
    "$\\therefore$ \n",
    "### Thesis 1: The masking and encoding techniques used in the construction of K4 do not alter the rank-order frequency distribution of the plaintext."
   ]
  },
  {
   "cell_type": "markdown",
   "metadata": {},
   "source": [
    "Let's do more analysis! We can calculate the [index of coincidence](https://en.wikipedia.org/wiki/Index_of_coincidence) (IC) of these letters. These are particularly useful for teasing out Vigénere keyword length. The non-normalized IC of the English language is approximately 0.0667. The normalized (non-normalized * # of alphabetic characters) IC is 1.73.\n",
    "\n",
    "I've written a method for calculating the IC given texts, given below:"
   ]
  },
  {
   "cell_type": "code",
   "execution_count": 28,
   "metadata": {},
   "outputs": [
    {
     "name": "stdout",
     "output_type": "stream",
     "text": [
      "Non-normalized: 0.03608247422680412\n",
      "Normalized: 0.9381443298969071\n"
     ]
    }
   ],
   "source": [
    "def calculateIC(string, ignore_case=True, alphabet=string.ascii_lowercase):\n",
    "    if (ignore_case):\n",
    "        string = string.lower()\n",
    "    counter = frequencies(string, ignore_case, alphabet)\n",
    "    ic = 0\n",
    "    n_chars = 0\n",
    "    for k in counter:\n",
    "        ic += counter[k] * (counter[k] - 1)\n",
    "        n_chars += counter[k]\n",
    "    return ic / (n_chars * (n_chars-1))\n",
    "\n",
    "ic_k4= calculateIC(k4)\n",
    "print(\"Non-normalized:\", ic_k4)\n",
    "print(\"Normalized:\", ic_k4 * len(string.ascii_uppercase))"
   ]
  },
  {
   "cell_type": "markdown",
   "metadata": {},
   "source": [
    "This is a bit on the low side, unfortunately. However, we can \"slice\" the string by taking every other character and calculating IC on those slices:"
   ]
  },
  {
   "cell_type": "code",
   "execution_count": 29,
   "metadata": {},
   "outputs": [
    {
     "name": "stdout",
     "output_type": "stream",
     "text": [
      "Non-normalized, starting at 0, slice size 2: 0.03231292517006803\n",
      "Normalized, starting at 0, slice size 2: 0.8401360544217688\n",
      "\n",
      "\n",
      "Non-normalized, starting at 1, slice size 2: 0.038120567375886524\n",
      "Normalized, starting at 1, slice size 2: 0.9911347517730497\n"
     ]
    }
   ],
   "source": [
    "ic_k4_slice2_0 = calculateIC(k4[::2])\n",
    "print(\"Non-normalized, starting at 0, slice size 2:\", ic_k4_slice2_0)\n",
    "print(\"Normalized, starting at 0, slice size 2:\", ic_k4_slice2_0 * len(string.ascii_uppercase))\n",
    "print(\"\\n\")\n",
    "\n",
    "ic_k4_slice2_1 = calculateIC(k4[1::2])\n",
    "print(\"Non-normalized, starting at 1, slice size 2:\", ic_k4_slice2_1)\n",
    "print(\"Normalized, starting at 1, slice size 2:\", ic_k4_slice2_1 * len(string.ascii_uppercase))"
   ]
  },
  {
   "cell_type": "markdown",
   "metadata": {},
   "source": [
    "Feel free to mess around with the below thing to explore other slice sizes:"
   ]
  },
  {
   "cell_type": "code",
   "execution_count": 58,
   "metadata": {},
   "outputs": [
    {
     "name": "stdout",
     "output_type": "stream",
     "text": [
      "Non-normalized, starting at 0 , slice size 7 : 0.06593406593406594\n",
      "Normalized, starting at 0 , slice size 7 : 1.7142857142857144\n",
      "\n",
      "\n",
      "Non-normalized, starting at 1 , slice size 7 : 0.03296703296703297\n",
      "Normalized, starting at 1 , slice size 7 : 0.8571428571428572\n",
      "\n",
      "\n",
      "Non-normalized, starting at 2 , slice size 7 : 0.07692307692307693\n",
      "Normalized, starting at 2 , slice size 7 : 2.0\n",
      "\n",
      "\n",
      "Non-normalized, starting at 3 , slice size 7 : 0.10989010989010989\n",
      "Normalized, starting at 3 , slice size 7 : 2.857142857142857\n",
      "\n",
      "\n",
      "Non-normalized, starting at 4 , slice size 7 : 0.054945054945054944\n",
      "Normalized, starting at 4 , slice size 7 : 1.4285714285714286\n",
      "\n",
      "\n",
      "Non-normalized, starting at 5 , slice size 7 : 0.04395604395604396\n",
      "Normalized, starting at 5 , slice size 7 : 1.142857142857143\n",
      "\n",
      "\n",
      "Non-normalized, starting at 6 , slice size 7 : 0.0641025641025641\n",
      "Normalized, starting at 6 , slice size 7 : 1.6666666666666665\n",
      "\n",
      "\n",
      "Average non-normalized IC: 0.06410256410256411\n",
      "Average normalized IC: 1.6666666666666667\n"
     ]
    }
   ],
   "source": [
    "step = 7\n",
    "code = k4.replace(\"K\",\"E\").replace(\"U\",\"T\").replace(\"S\",\"A\")\n",
    "\n",
    "# boilerplate\n",
    "def findICs(step, code):\n",
    "    sum_ic = 0\n",
    "    for i in range(step):\n",
    "        test_slice_ic = calculateIC(code[i::step])\n",
    "        sum_ic += test_slice_ic\n",
    "        print(\"Non-normalized, starting at\", i, \", slice size\", step, \":\", test_slice_ic)\n",
    "        print(\"Normalized, starting at\", i, \", slice size\", step, \":\", test_slice_ic * len(string.ascii_uppercase))\n",
    "        print(\"\\n\")\n",
    "    print(\"Average non-normalized IC:\", sum_ic / step)\n",
    "    print(\"Average normalized IC:\", len(string.ascii_uppercase) * sum_ic / step)\n",
    "    return sum_ic\n",
    "\n",
    "sum_ic = findICs(step, code)\n",
    "\n",
    "\n",
    "    \n"
   ]
  },
  {
   "cell_type": "markdown",
   "metadata": {},
   "source": [
    "The NSA documents requested via FOIA (will provide link when I find one) confirm that there seems to be higher IC with step size 7 (average normalized IC of 1.08); however, it's not a very strong effect since it's so close to 1. Set `step_size = 7` and see for yourself. \n",
    "\n",
    "However, if it is true that the masking and encoding techniques don't overall touch the frequency distribution, we should be seeing an IC close in value to that of the raw K4 text coinciding with some keyword size n **if** Vigénere encryption techniques were used. Note that K3 has IC = 1.720, very close to natural English!\n",
    "\n",
    "Also, it is interesting to note that K1 has IC values similar to that of K4: the IC of K1 is `0.03789042498719918`, but the IC of K4 is `0.03608247422680412`, approximately a 5% difference. Due to the shorter nature of these strings, however, there is more uncertainty when speculating.\n",
    "\n",
    "As a sanity check, feel free to run the code on K1 with the key-length of \"PALIMPSEST\" (10). You'll find very high ICs. A similar effect is visible on K2 with the key-length of \"ABSCISSA\" (8). The fact that no similar strong pattern emerges **strongly suggest that this is not a pure Vigenere encrypted polyalphabetic substitution cipher** — but that was generally accepted already.\n",
    "\n",
    "But what if there is some decryption technique that leads to a middle-text digestible by modern cryptanalytic methods? In other words, if we find $g^{-1}$ and apply it to k4, we should reach some intermediary text that yields better IC values if the masking technique is a Vigenere cipher. The masking technique used ought to leave some statistical fingerprint, traces of which can be found after encryption.\n",
    "\n",
    "So the question now is — what sort of transformations on k4 yield statistically interesting text? Furthermore, if we maintain consistency with **Thesis 1**, what such transformations do not change the underlying rank-order distribution of frequencies? Making use of the observation that the ciphertext distribution seems \"squashed\" - what transformations exist to squeeze/unsqueeze (?) entropy from a text?"
   ]
  },
  {
   "cell_type": "code",
   "execution_count": null,
   "metadata": {},
   "outputs": [],
   "source": []
  },
  {
   "cell_type": "markdown",
   "metadata": {},
   "source": [
    "## Step 1: Deducing the Frequency Distribution of the Middletext\n",
    "\n",
    "Given the provided ciphertext, what masking methods would confound frequency analysis on enconded English?\n",
    "\n",
    "To start, what if we replaced the nth-most common letter in the ciphertext with the nth-most common letter in English? What masking methods would confound that assumption?\n",
    "\n",
    "If the masking technique verticalliy \"squashes\" the rank-order distribution of frequencies, then we would expect the medium-frequency letters of the alphabet to be the least affected. We don't know what \"masking\" techniques were used to disguise the plaintext, but confounding frequency analysis (a staple of cryptanalysis) would certainly be pretty powerful. \n",
    "\n",
    "Imagine an English plaintext $s$ masked with $f$ to conceal frequencies ($f(s) = s'$), resulting in a squashed frequency distribution of $s'$. Then, $g(s') = k4$ by definition. Suppose that $g$ is a transposition. Combining this logic with the previous, this results in the following hypotheses:\n",
    "\n",
    "### H1.1. If encoding function g is a transposition, then the rank-order frequency distribution of s' should be similar to that of natural English close to the median of the distribution.\n",
    "\n",
    "Similarly, for some Vigenere cipher $g$:\n",
    "\n",
    "### H1.2. If encoding function g is a Vigenere polyalphabetic substitution cipher, then for some keyword k, decoding k4 using k results in middletext s' with a rank-order frequency distribution similar to that of natural English close to the median of the distribution.\n",
    "\n",
    "In other words, whatever encoding technique was used, we should end up with a squished-frequency distribution upon executing $g^{-1}$. \n"
   ]
  },
  {
   "cell_type": "code",
   "execution_count": 131,
   "metadata": {},
   "outputs": [
    {
     "data": {
      "text/plain": [
       "'WLVBTQHWVZELWWWKKNBWGTKFPQCNNYXMAVUVSIRAODZJVMZHGZGRMLNKAJBVNRXEEHPTNBLUHMWYKPBCEJXKAVVEHNWVQVJAJ'"
      ]
     },
     "execution_count": 131,
     "metadata": {},
     "output_type": "execute_result"
    }
   ],
   "source": [
    "decodeVigenere(k4.replace(\"K\",\"E\").replace(\"U\",\"T\").replace(\"S\",\"A\"), \"BLINKED\", tabula_kryptos)"
   ]
  },
  {
   "cell_type": "markdown",
   "metadata": {},
   "source": [
    "## Attempts at Decryption\n",
    "\n",
    "### Method 1: Autokey Deduction via N-Gram Fitness Test\n",
    "\n",
    "**Description.** The Autokey cipher is a modification of the Vigenere cipher that uses part of the plaintext itself as the encryption key, offset by another keyword. More information on the Autokey cipher can be found [here](http://practicalcryptography.com/ciphers/classical-era/autokey/).  \n",
    "\n",
    "**Methods.** We will assume that for some keyword of length n, Kryptos 4 is enciphered using its own plaintext using the Kryptos Vigenere tableau. Using a starting key of 'A'^n (A repeated n times), we will use n-gram fitness to calculate the most likely keys for a particular key-length. \n",
    "\n",
    "Using the general technique described [here](http://practicalcryptography.com/cryptanalysis/stochastic-searching/cryptanalysis-autokey-cipher/), we increment the first 'A' until we find the first character that maximizes the n-gram fitness function. We fix that character, then repeat the same process with the next character. For an alphabet $\\Sigma$, this reduces search space from $|\\Sigma|^n$ to $|\\Sigma| \\times n$, an asymptotic improvement. I imagine that for $n \\geq 6$, the exponential version gets extremely computationally expensive for the average user. \n",
    "\n",
    "We can also keep on hand a dictionary data structure that can tell if our keyword makes sense in English. This is setting should be toggle-able.\n",
    "\n",
    "To calculate fitness, we find the n-gram fitness of every window of size $1 \\leq i \\leq n$ starting at every nth character. That is to say we do not include the non-decrypted letters in the n-gram fitness calculation. We only have n-gram data up to size 5. \n",
    "\n",
    "First, let's load in our n-gram fitness tables:\n",
    "\n",
    "Data retrieved from [Practical Cryptography](http://practicalcryptography.com/cryptanalysis/letter-frequencies-various-languages/english-letter-frequencies/)."
   ]
  },
  {
   "cell_type": "code",
   "execution_count": 87,
   "metadata": {},
   "outputs": [
    {
     "name": "stdout",
     "output_type": "stream",
     "text": [
      "Loading 1-grams...\n",
      "Loading 2-grams...\n",
      "Loading 3-grams...\n",
      "Loading 4-grams...\n",
      "Loading 5-grams...\n",
      "Done!\n",
      "{'TH': 116997844, 'HE': 100689263, 'IN': 87674002, 'ER': 77134382, 'AN': 69775179, 'RE': 60923600, 'ES': 57070453, 'ON': 56915252, 'ST': 54018399, 'NT': 50701084, 'EN': 48991276, 'AT': 48274564, 'ED': 46647960, 'ND': 46194306, 'TO': 46115188, 'OR': 45725191, 'EA': 43329810, 'TI': 42888666, 'AR': 42353262, 'TE': 42295813, 'NG': 38567365, 'AL': 38211584, 'IT': 37938534, 'AS': 37773878, 'IS': 37349981, 'HA': 35971841, 'ET': 32872552, 'SE': 31532272, 'OU': 31112284, 'OF': 30540904, 'LE': 30383262, 'SA': 30080131, 'VE': 29320973, 'RO': 29230770, 'RA': 28645577, 'RI': 27634643, 'HI': 27495342, 'NE': 27331675, 'ME': 27237733, 'DE': 27029835, 'CO': 26737101, 'TA': 26147593, 'EC': 25775798, 'SI': 25758841, 'LL': 24636875, 'SO': 23903631, 'NA': 23547524, 'LI': 23291169, 'LA': 23178317, 'EL': 23092248, 'MA': 21828378, 'DI': 21673998, 'IC': 21468412, 'RT': 21456059, 'NS': 21306421, 'RS': 21237259, 'IO': 21210160, 'OM': 21066156, 'CH': 20132750, 'OT': 20088048, 'CA': 19930754, 'CE': 19803619, 'HO': 19729026, 'BE': 19468489, 'TT': 19367472, 'FO': 18923772, 'TS': 18922522, 'SS': 18915696, 'NO': 18894111, 'EE': 18497942, 'EM': 18145294, 'AC': 17904683, 'IL': 17877600, 'DA': 17584055, 'NI': 17452104, 'UR': 17341717, 'WA': 16838794, 'SH': 16773127, 'EI': 16026915, 'AM': 15975981, 'TR': 15821226, 'DT': 15759673, 'US': 15699353, 'LO': 15596310, 'PE': 15573318, 'UN': 15237699, 'NC': 15214623, 'WI': 15213018, 'UT': 15137169, 'AD': 14877234, 'EW': 14776406, 'OW': 14610429, 'GE': 14425023, 'EP': 14024377, 'AI': 13974919, 'LY': 13742031, 'OL': 13726491, 'FT': 13696078, 'OS': 13596265, 'EO': 13524186, 'EF': 13252227, 'PR': 13191182, 'WE': 13185116, 'DO': 13120322, 'MO': 12950768, 'ID': 12896787, 'IE': 12505546, 'MI': 12168944, 'PA': 12068709, 'FI': 11993833, 'PO': 11917535, 'CT': 11888752, 'WH': 11852909, 'IR': 11681353, 'AY': 11523416, 'GA': 11239788, 'SC': 10800636, 'KE': 10650670, 'EV': 10574011, 'SP': 10570626, 'IM': 10544422, 'OP': 10459455, 'DS': 10429887, 'LD': 10245579, 'UL': 10173468, 'OO': 10168856, 'SU': 10031005, 'IA': 10002012, 'GH': 9880399, 'PL': 9812226, 'EB': 9738798, 'IG': 9530574, 'VI': 9380037, 'IV': 9129232, 'WO': 9106647, 'YO': 9088497, 'RD': 9025637, 'TW': 8910254, 'BA': 8867461, 'AG': 8809266, 'RY': 8788539, 'AB': 8775582, 'LS': 8675452, 'SW': 8673234, 'AP': 8553911, 'FE': 8529289, 'TU': 8477495, 'CI': 8446084, 'FA': 8357929, 'HT': 8351551, 'FR': 8339376, 'AV': 8288885, 'EG': 8286463, 'GO': 8188708, 'BO': 8172395, 'BU': 8113271, 'TY': 8008918, 'MP': 7835172, 'OC': 7646952, 'OD': 7610214, 'EH': 7559141, 'YS': 7539621, 'EY': 7528342, 'RM': 7377989, 'OV': 7350014, 'GT': 7347990, 'YA': 7239548, 'CK': 7205091, 'GI': 7103140, 'RN': 7064635, 'GR': 6989963, 'RC': 6974063, 'BL': 6941044, 'LT': 6817273, 'YT': 6714151, 'OA': 6554221, 'YE': 6499305, 'OB': 6212512, 'DB': 6106719, 'FF': 6085519, 'SF': 6073995, 'RR': 5896212, 'DU': 5861311, 'KI': 5814357, 'UC': 5742385, 'IF': 5740414, 'AF': 5702567, 'DR': 5701879, 'CL': 5683204, 'EX': 5649363, 'SM': 5580755, 'PI': 5559210, 'SB': 5553684, 'CR': 5514347, 'TL': 5403137, 'OI': 5336616, 'RU': 5330557, 'UP': 5306948, 'BY': 5232074, 'TC': 5196817, 'NN': 5180899, 'AK': 5137311, 'SL': 4965012, 'NF': 4950333, 'UE': 4927837, 'DW': 4906814, 'AU': 4884168, 'PP': 4873393, 'UG': 4832325, 'RL': 4803246, 'RG': 4645938, 'BR': 4621080, 'CU': 4604045, 'UA': 4589997, 'DH': 4585765, 'RK': 4491400, 'YI': 4461214, 'LU': 4402940, 'UM': 4389720, 'BI': 4356462, 'NY': 4343290, 'NW': 4215967, 'QU': 4169424, 'OG': 4163126, 'SN': 4157990, 'MB': 4121764, 'VA': 4111375, 'DF': 4033878, 'DD': 4001275, 'MS': 3922855, 'GS': 3920675, 'AW': 3918960, 'NH': 3915410, 'PU': 3858148, 'HR': 3843001, 'SD': 3842250, 'TB': 3815459, 'PT': 3812475, 'NM': 3796928, 'DC': 3782481, 'GU': 3768430, 'TM': 3759861, 'MU': 3755834, 'NU': 3732602, 'MM': 3730508, 'NL': 3692985, 'EU': 3674130, 'WN': 3649615, 'NB': 3602692, 'RP': 3588188, 'DM': 3544905, 'SR': 3513808, 'UD': 3499535, 'UI': 3481482, 'RF': 3436232, 'OK': 3397570, 'YW': 3379064, 'TF': 3368452, 'IP': 3348621, 'RW': 3348005, 'RB': 3346212, 'OH': 3254659, 'KS': 3227333, 'DP': 3145043, 'FU': 3138900, 'YC': 3128053, 'TP': 3070427, 'MT': 3055946, 'DL': 3050945, 'NK': 3043200, 'CC': 3026492, 'UB': 2990868, 'RH': 2968706, 'NP': 2968126, 'JU': 2924815, 'FL': 2890839, 'DN': 2840522, 'KA': 2833038, 'PH': 2825344, 'HU': 2771830, 'JO': 2721345, 'LF': 2702522, 'YB': 2696786, 'RV': 2692445, 'OE': 2616308, 'IB': 2598444, 'IK': 2585124, 'YP': 2581863, 'GL': 2576787, 'LP': 2543957, 'YM': 2516273, 'LB': 2463693, 'HS': 2462026, 'DG': 2442139, 'GN': 2426429, 'EK': 2411639, 'NR': 2393580, 'PS': 2377036, 'TD': 2346516, 'LC': 2328063, 'SK': 2321888, 'YF': 2305244, 'YH': 2291273, 'VO': 2253292, 'AH': 2225270, 'DY': 2218040, 'LM': 2216514, 'SY': 2214270, 'NV': 2194534, 'YD': 2122337, 'FS': 2047416, 'SG': 2043770, 'YR': 2021939, 'YL': 2013939, 'WS': 1988727, 'MY': 1949129, 'OY': 1932892, 'KN': 1903836, 'IZ': 1865802, 'XP': 1840696, 'LW': 1836811, 'TN': 1782119, 'KO': 1758001, 'AA': 1721143, 'JA': 1712763, 'ZE': 1709871, 'FC': 1570791, 'GW': 1567991, 'TG': 1530045, 'XT': 1509969, 'FH': 1507604, 'LR': 1505092, 'JE': 1487348, 'YN': 1485655, 'GG': 1468286, 'GF': 1465290, 'EQ': 1461436, 'HY': 1446451, 'KT': 1443985, 'HC': 1441057, 'BS': 1409672, 'HW': 1403223, 'HN': 1383958, 'CS': 1381608, 'HM': 1353001, 'NJ': 1342735, 'HH': 1329998, 'WT': 1301293, 'GC': 1299541, 'LH': 1274048, 'EJ': 1256993, 'FM': 1251312, 'DV': 1238565, 'LV': 1238287, 'WR': 1226755, 'GP': 1215204, 'FP': 1199845, 'GB': 1184377, 'GM': 1178511, 'HL': 1169468, 'LK': 1164186, 'CY': 1145316, 'MC': 1101727, 'YG': 1049082, 'XI': 1024736, 'HB': 1014004, 'FW': 1005903, 'GY': 979804, 'HP': 978649, 'MW': 937621, 'PM': 931225, 'ZA': 929119, 'LG': 926472, 'IW': 922059, 'XA': 904148, 'FB': 888155, 'SV': 882083, 'GD': 879792, 'IX': 879360, 'AJ': 870262, 'KL': 846309, 'HF': 834284, 'HD': 828755, 'AE': 815963, 'SQ': 800346, 'DJ': 799366, 'FY': 789961, 'AZ': 768359, 'LN': 752316, 'AO': 749566, 'FD': 748027, 'KW': 719633, 'MF': 715087, 'MH': 710864, 'SJ': 704442, 'UF': 701892, 'TV': 698150, 'XC': 697995, 'YU': 695512, 'BB': 689158, 'WW': 674610, 'OJ': 661082, 'AX': 660826, 'MR': 660619, 'WL': 657782, 'XE': 653947, 'KH': 650095, 'OX': 650078, 'UO': 649906, 'ZI': 644035, 'FG': 637758, 'IH': 610683, 'TK': 610333, 'II': 607124, 'IU': 576683, 'TJ': 559473, 'MN': 558397, 'WY': 553647, 'KY': 553296, 'KF': 537342, 'FN': 534362, 'UY': 531960, 'PW': 530411, 'DK': 525744, 'RJ': 518157, 'UK': 514873, 'KR': 507020, 'KU': 506618, 'WM': 505687, 'KM': 485617, 'MD': 481126, 'ML': 478528, 'EZ': 465466, 'KB': 457860, 'WC': 448394, 'WD': 432646, 'HG': 429607, 'BT': 428276, 'ZO': 424016, 'KC': 420017, 'PF': 418168, 'YV': 411487, 'PC': 400308, 'PY': 396147, 'WB': 394820, 'YK': 391953, 'CP': 382923, 'YJ': 378679, 'KP': 375653, 'PB': 369336, 'CD': 358435, 'JI': 357577, 'UW': 352732, 'UH': 339341, 'WF': 336213, 'YY': 332973, 'WP': 321746, 'BC': 320380, 'AQ': 315068, 'CB': 298053, 'IQ': 291635, 'CM': 285942, 'MG': 285133, 'DQ': 283314, 'BJ': 282608, 'TZ': 280007, 'KD': 277982, 'PD': 273162, 'FJ': 269865, 'CF': 267630, 'NZ': 266461, 'CW': 257253, 'FV': 244685, 'VY': 233082, 'FK': 228905, 'OZ': 228556, 'ZZ': 221275, 'IJ': 219128, 'LJ': 218362, 'NQ': 217422, 'UV': 212051, 'XO': 211173, 'PG': 211133, 'HK': 210385, 'KG': 209266, 'VS': 204093, 'HV': 197539, 'BM': 191807, 'HJ': 189906, 'CN': 188046, 'GV': 186777, 'CG': 181590, 'WU': 180884, 'GJ': 176947, 'XH': 166599, 'GK': 163830, 'TQ': 159111, 'CQ': 157546, 'RQ': 156933, 'BH': 154489, 'XS': 154347, 'UZ': 153736, 'WK': 148964, 'XU': 147533, 'UX': 144814, 'BD': 141752, 'BW': 140189, 'WG': 139890, 'MV': 136314, 'MJ': 134263, 'PN': 131645, 'XM': 127492, 'OQ': 122677, 'BV': 120081, 'XW': 119322, 'KK': 118811, 'BP': 115161, 'ZU': 113538, 'RZ': 113432, 'XF': 113031, 'MK': 111041, 'ZH': 107639, 'BN': 106125, 'ZY': 105871, 'HQ': 101241, 'WJ': 99435, 'IY': 98361, 'DZ': 98038, 'VR': 96416, 'ZS': 94993, 'XY': 94329, 'CV': 94224, 'XB': 94041, 'XR': 90046, 'UJ': 88168, 'YQ': 87953, 'VD': 85611, 'PK': 83017, 'VU': 82830, 'JR': 80471, 'ZL': 80039, 'SZ': 79840, 'YZ': 78281, 'LQ': 77148, 'KJ': 76816, 'BF': 75352, 'NX': 74844, 'QA': 73527, 'QI': 73387, 'KV': 73184, 'ZW': 68865, 'WV': 63930, 'UU': 63043, 'VT': 62912, 'VP': 62577, 'XD': 60101, 'GQ': 59750, 'XL': 59585, 'VC': 59024, 'CZ': 57914, 'LZ': 57314, 'ZT': 56955, 'WZ': 52836, 'SX': 50975, 'ZB': 50652, 'VL': 49032, 'PV': 48105, 'FQ': 47504, 'PJ': 47043, 'ZM': 46034, 'VW': 45608, 'CJ': 41526, 'ZC': 41037, 'BG': 40516, 'JS': 39326, 'XG': 39289, 'RX': 38654, 'HZ': 37066, 'XX': 35052, 'VM': 35024, 'XN': 34734, 'QW': 34669, 'JP': 34520, 'VN': 33082, 'ZD': 32906, 'ZR': 32685, 'FZ': 31186, 'XV': 31117, 'ZP': 30389, 'VH': 30203, 'VB': 29192, 'ZF': 28658, 'GZ': 28514, 'TX': 28156, 'VF': 28090, 'DX': 27413, 'QB': 27307, 'BK': 26993, 'ZG': 26369, 'VG': 25585, 'JC': 24770, 'ZK': 24262, 'ZN': 24241, 'UQ': 23386, 'JM': 22338, 'VV': 22329, 'JD': 21903, 'MQ': 21358, 'JH': 20960, 'QS': 20847, 'JT': 20408, 'JB': 19380, 'FX': 19313, 'PQ': 18607, 'MZ': 18271, 'YX': 16945, 'QT': 16914, 'WQ': 16245, 'JJ': 16085, 'JW': 16083, 'LX': 15467, 'GX': 14778, 'JN': 14452, 'ZV': 14339, 'MX': 14250, 'JK': 13967, 'KQ': 13905, 'XK': 13651, 'JF': 12640, 'QM': 12315, 'QH': 12273, 'JL': 12149, 'JG': 12023, 'VK': 11469, 'VJ': 11432, 'KZ': 11192, 'QC': 10667, 'XJ': 10629, 'PZ': 9697, 'QL': 9603, 'QO': 9394, 'JV': 8925, 'QF': 8778, 'QD': 8678, 'BZ': 8132, 'HX': 7526, 'ZJ': 7167, 'PX': 6814, 'QP': 6062, 'QE': 6020, 'QR': 5975, 'ZQ': 5773, 'JY': 5723, 'BQ': 5513, 'XQ': 5416, 'CX': 5300, 'KX': 5083, 'WX': 4678, 'QY': 4557, 'QV': 4212, 'QN': 3808, 'VX': 3192, 'BX': 3021, 'JZ': 2859, 'VZ': 2633, 'QG': 2567, 'QQ': 2499, 'ZX': 2463, 'XZ': 2082, 'QK': 2023, 'VQ': 1488, 'QJ': 1342, 'QX': 765, 'JX': 747, 'JQ': 722, 'QZ': 280}\n"
     ]
    }
   ],
   "source": [
    "from kryptos.util.constants import RES_PATH\n",
    "\n",
    "def loadDict(file):\n",
    "    d = {}\n",
    "    with open(RES_PATH + file) as f:\n",
    "        for line in f:\n",
    "            (key, val) = line.split()\n",
    "            d[key] = int(val)\n",
    "    return d\n",
    "\n",
    "print(\"Loading 1-grams...\")\n",
    "_1_grams = loadDict(\"english_monograms.txt\")\n",
    "print(\"Loading 2-grams...\")\n",
    "_2_grams = loadDict(\"english_bigrams.txt\")\n",
    "print(\"Loading 3-grams...\")\n",
    "_3_grams = loadDict(\"english_trigrams.txt\")\n",
    "print(\"Loading 4-grams...\")\n",
    "_4_grams = loadDict(\"english_quadgrams.txt\")\n",
    "print(\"Loading 5-grams...\")\n",
    "_5_grams = loadDict(\"english_quintgrams.txt\")\n",
    "\n",
    "print(\"Done!\")\n",
    "print(_2_grams)\n",
    "\n",
    "# This can take a long time to load. There are a LOT of 5-grams!"
   ]
  },
  {
   "cell_type": "code",
   "execution_count": 86,
   "metadata": {},
   "outputs": [
    {
     "name": "stdout",
     "output_type": "stream",
     "text": [
      "Current key: A - Fitness: 253.67507658384412\n",
      "Current key: B - Fitness: 255.93050337744467\n",
      "Current key: C - Fitness: 255.38637710727212\n",
      "Current key: D - Fitness: 256.3151316335936\n",
      "Current key: E - Fitness: 253.06559657052472\n",
      "Current key: F - Fitness: 257.298935444334\n",
      "Current key: G - Fitness: 256.25548949699515\n",
      "Current key: H - Fitness: 256.76534757948997\n",
      "Current key: I - Fitness: 253.8135918534624\n",
      "Current key: J - Fitness: 257.32003445830134\n",
      "Current key: K - Fitness: 257.33925396734156\n",
      "Current key: L - Fitness: 256.92926500979246\n",
      "Current key: M - Fitness: 256.0641342532903\n",
      "Current key: N - Fitness: 256.1087425909325\n",
      "Current key: O - Fitness: 255.1163947892369\n",
      "Current key: P - Fitness: 255.87184014489816\n",
      "Current key: Q - Fitness: 257.8216431239652\n",
      "Current key: R - Fitness: 257.51905116518935\n",
      "Current key: S - Fitness: 253.15502846208662\n",
      "Current key: T - Fitness: 257.1744533969947\n",
      "Current key: U - Fitness: 256.6822854465549\n",
      "Current key: V - Fitness: 256.48069975643745\n",
      "Current key: W - Fitness: 255.80172170528547\n",
      "Current key: X - Fitness: 257.4748541143716\n",
      "Current key: Y - Fitness: 256.0544198655701\n",
      "Current key: Z - Fitness: 257.2350332235076\n",
      "Current key: QA - Fitness: 192.29032827687314\n",
      "Current key: QB - Fitness: 188.82508575470695\n",
      "Current key: QC - Fitness: 187.18006293069374\n",
      "Current key: QD - Fitness: 189.67632195080802\n",
      "Current key: QE - Fitness: 190.63781087487763\n",
      "Current key: QF - Fitness: 190.3031783534687\n",
      "Current key: QG - Fitness: 189.2460955253133\n",
      "Current key: QH - Fitness: 188.32419866935277\n",
      "Current key: QI - Fitness: 191.83642139681166\n",
      "Current key: QJ - Fitness: 190.84319039871298\n",
      "Current key: QK - Fitness: 190.2208968567832\n",
      "Current key: QL - Fitness: 191.08427613215963\n",
      "Current key: QM - Fitness: 188.17350151614647\n",
      "Current key: QN - Fitness: 190.71904865181563\n",
      "Current key: QO - Fitness: 190.58557618511327\n",
      "Current key: QP - Fitness: 190.549258793447\n",
      "Current key: QQ - Fitness: 189.96753671476557\n",
      "Current key: QR - Fitness: 191.713620006158\n",
      "Current key: QS - Fitness: 189.96345398701283\n",
      "Current key: QT - Fitness: 191.43741717921552\n",
      "Current key: QU - Fitness: 190.05940237484617\n",
      "Current key: QV - Fitness: 190.5289447691493\n",
      "Current key: QW - Fitness: 190.86243863802156\n",
      "Current key: QX - Fitness: 191.78740835180213\n",
      "Current key: QY - Fitness: 191.98906567750606\n",
      "Current key: QZ - Fitness: 191.19421514502505\n",
      "Current key: QAA - Fitness: 112.58280449021399\n",
      "Current key: QAB - Fitness: 112.29790191276197\n",
      "Current key: QAC - Fitness: 111.5131423143726\n",
      "Current key: QAD - Fitness: 110.13287100035183\n",
      "Current key: QAE - Fitness: 113.27048130122121\n",
      "Current key: QAF - Fitness: 111.88428594174667\n",
      "Current key: QAG - Fitness: 111.71354791177806\n",
      "Current key: QAH - Fitness: 112.15794616637434\n",
      "Current key: QAI - Fitness: 114.05720345303604\n",
      "Current key: QAJ - Fitness: 111.50516355887486\n",
      "Current key: QAK - Fitness: 110.25902214458094\n",
      "Current key: QAL - Fitness: 112.38534469267859\n",
      "Current key: QAM - Fitness: 111.90305913948069\n",
      "Current key: QAN - Fitness: 113.46602529238253\n",
      "Current key: QAO - Fitness: 111.17683563473317\n",
      "Current key: QAP - Fitness: 112.10605085224566\n",
      "Current key: QAQ - Fitness: 113.94045389871243\n",
      "Current key: QAR - Fitness: 108.17801785315228\n",
      "Current key: QAS - Fitness: 108.609553882597\n",
      "Current key: QAT - Fitness: 112.14890357588072\n",
      "Current key: QAU - Fitness: 112.7170939430566\n",
      "Current key: QAV - Fitness: 113.26152794021452\n",
      "Current key: QAW - Fitness: 111.79644582798718\n",
      "Current key: QAX - Fitness: 112.32798280684702\n",
      "Current key: QAY - Fitness: 106.72263451937005\n",
      "Current key: QAZ - Fitness: 112.05127961203432\n",
      "Current key: QAIA - Fitness: 65.00763165618775\n",
      "Current key: QAIB - Fitness: 67.50179071109734\n",
      "Current key: QAIC - Fitness: 66.54318750606275\n",
      "Current key: QAID - Fitness: 66.49636328342159\n",
      "Current key: QAIE - Fitness: 64.22766078409376\n",
      "Current key: QAIF - Fitness: 67.04516200050604\n",
      "Current key: QAIG - Fitness: 66.2405472951095\n",
      "Current key: QAIH - Fitness: 66.23235774761538\n",
      "Current key: QAII - Fitness: 66.37628654728843\n",
      "Current key: QAIJ - Fitness: 65.50392228509973\n",
      "Current key: QAIK - Fitness: 65.76817681156483\n",
      "Current key: QAIL - Fitness: 67.74465984824367\n",
      "Current key: QAIM - Fitness: 66.87914671260378\n",
      "Current key: QAIN - Fitness: 66.03228882141092\n",
      "Current key: QAIO - Fitness: 65.86598944195295\n",
      "Current key: QAIP - Fitness: 65.05492465676546\n",
      "Current key: QAIQ - Fitness: 67.68632494559601\n",
      "Current key: QAIR - Fitness: 64.48888090136715\n",
      "Current key: QAIS - Fitness: 65.00744746109555\n",
      "Current key: QAIT - Fitness: 66.71822373347386\n",
      "Current key: QAIU - Fitness: 67.77753042880269\n",
      "Current key: QAIV - Fitness: 65.65664889349627\n",
      "Current key: QAIW - Fitness: 67.06794160195899\n",
      "Current key: QAIX - Fitness: 66.60813885136363\n",
      "Current key: QAIY - Fitness: 62.96614762702973\n",
      "Current key: QAIZ - Fitness: 64.78467226604417\n",
      "Current key: QAIUA - Fitness: 21.534205973113536\n",
      "Current key: QAIUB - Fitness: 18.640321206610004\n",
      "Current key: QAIUC - Fitness: 18.047879902398236\n",
      "Current key: QAIUD - Fitness: 22.020223413957552\n",
      "Current key: QAIUE - Fitness: 17.920676358817957\n",
      "Current key: QAIUF - Fitness: 20.711841466630673\n",
      "Current key: QAIUG - Fitness: 19.097620490755972\n",
      "Current key: QAIUH - Fitness: 21.94090582635385\n",
      "Current key: QAIUI - Fitness: 20.3001796250883\n",
      "Current key: QAIUJ - Fitness: 21.826411116071686\n",
      "Current key: QAIUK - Fitness: 22.16944272813016\n",
      "Current key: QAIUL - Fitness: 23.63199517856602\n",
      "Current key: QAIUM - Fitness: 21.913212046934163\n",
      "Current key: QAIUN - Fitness: 18.6865747714701\n",
      "Current key: QAIUO - Fitness: 18.210439597473563\n",
      "Current key: QAIUP - Fitness: 19.663657237883676\n",
      "Current key: QAIUQ - Fitness: 18.32614146692612\n",
      "Current key: QAIUR - Fitness: 17.41523743526459\n",
      "Current key: QAIUS - Fitness: 21.795084028451406\n",
      "Current key: QAIUT - Fitness: 19.52853895702182\n",
      "Current key: QAIUU - Fitness: 17.993857976111546\n",
      "Current key: QAIUV - Fitness: 15.76826579727153\n",
      "Current key: QAIUW - Fitness: 13.015401580379528\n",
      "Current key: QAIUX - Fitness: 19.528353462678865\n",
      "Current key: QAIUY - Fitness: 21.188289436402894\n",
      "Current key: QAIUZ - Fitness: 17.236745833362935\n",
      "Current key: QAIULA - Fitness: 0\n",
      "Current key: QAIULB - Fitness: 0\n",
      "Current key: QAIULC - Fitness: 0\n",
      "Current key: QAIULD - Fitness: 0\n",
      "Current key: QAIULE - Fitness: 0\n",
      "Current key: QAIULF - Fitness: 0\n",
      "Current key: QAIULG - Fitness: 0\n",
      "Current key: QAIULH - Fitness: 0\n",
      "Current key: QAIULI - Fitness: 0\n",
      "Current key: QAIULJ - Fitness: 0\n",
      "Current key: QAIULK - Fitness: 0\n",
      "Current key: QAIULL - Fitness: 0\n",
      "Current key: QAIULM - Fitness: 0\n",
      "Current key: QAIULN - Fitness: 0\n",
      "Current key: QAIULO - Fitness: 0\n",
      "Current key: QAIULP - Fitness: 0\n",
      "Current key: QAIULQ - Fitness: 0\n",
      "Current key: QAIULR - Fitness: 0\n",
      "Current key: QAIULS - Fitness: 0\n",
      "Current key: QAIULT - Fitness: 0\n",
      "Current key: QAIULU - Fitness: 0\n",
      "Current key: QAIULV - Fitness: 0\n",
      "Current key: QAIULW - Fitness: 0\n",
      "Current key: QAIULX - Fitness: 0\n",
      "Current key: QAIULY - Fitness: 0\n",
      "Current key: QAIULZ - Fitness: 0\n",
      "Plaintext: ERESTXTXXNTDHZJVXOHRBLKQYGOBDFNNLEHWPWOEZGFZVOBMPKIUCDRPKFSBZONXEVYWIWBOCNBMNNOLIUMPUSEKWHGHVOMKA\n"
     ]
    }
   ],
   "source": [
    "import itertools # for the dynamic string slicing we need\n",
    "import math\n",
    "\n",
    "def loadTable(size):\n",
    "    if size == 1:\n",
    "        return _1_grams\n",
    "    elif size == 2:\n",
    "        return _2_grams\n",
    "    elif size == 3:\n",
    "        return _3_grams\n",
    "    elif size == 4:\n",
    "        return _4_grams\n",
    "    elif size == 5:\n",
    "        return _5_grams\n",
    "        freqDict = loadDict(\"english_quintgrams.txt\")\n",
    "    else:\n",
    "        return {}\n",
    "\n",
    "def calculateFitness(string, ngram_size, step_size=1):\n",
    "    if ngram_size < 1 or ngram_size > 5:\n",
    "        return 0\n",
    "    ngram_table = loadTable(ngram_size)\n",
    "    sliced = [string[i:i+ngram_size] for i in range(0, len(string), step_size)]\n",
    "    score = 0\n",
    "    for value in sliced:\n",
    "        try:\n",
    "            score += math.log(ngram_table[value])\n",
    "        except KeyError:\n",
    "            pass\n",
    "    return score\n",
    "\n",
    "def analyzeNGramSlices(ciphertext, tabula=string.ascii_uppercase, start_key='AAAAAAA', alphabet=string.ascii_uppercase, verbose=False):\n",
    "    key = ''\n",
    "    length = len(alphabet)\n",
    "    for i in range(len(start_key)):\n",
    "        if i == 0:\n",
    "            continue\n",
    "        char_curr = start_key[i]\n",
    "        fitness_max = -1\n",
    "        max_char = None\n",
    "        for char_index in range(length):\n",
    "            char_curr = alphabet[(alphabet.index(start_key[i]) + char_index) % length]\n",
    "            result = decodeVigenere(ciphertext, key + char_curr + ciphertext, tabula)\n",
    "            fitness = calculateFitness(result, i, step_size=len(start_key))\n",
    "            if fitness > fitness_max:\n",
    "                fitness_max = fitness\n",
    "                max_char = char_curr\n",
    "            if verbose:\n",
    "                print(\"Current key:\", key + char_curr, \"- Fitness:\", fitness)\n",
    "        key += max_char\n",
    "    return key\n",
    "\n",
    "init = 'AAAAAAA'\n",
    "\n",
    "kryptos_tableau = tabulaOf(\"KRYPTOS\", prepend=True, basis=string.ascii_uppercase)\n",
    "best_key = analyzeNGramSlices(k4, tabula=kryptos_tableau, start_key=init, verbose=True)\n",
    "best_plain = decodeVigenere(k4, best_key, kryptos_tableau)\n",
    "print(\"Plaintext:\", best_plain)\n",
    "\n",
    "\n"
   ]
  },
  {
   "cell_type": "code",
   "execution_count": 81,
   "metadata": {},
   "outputs": [
    {
     "data": {
      "text/plain": [
       "'BVQTYA'"
      ]
     },
     "execution_count": 81,
     "metadata": {},
     "output_type": "execute_result"
    }
   ],
   "source": [
    "# sanity check\n",
    "cipher = 'FMULRULKIJEFWPHPPOXMDENLGYEL'\n",
    "analyzeNGramSlices(cipher, start_key='AAAAAAA')"
   ]
  },
  {
   "cell_type": "markdown",
   "metadata": {},
   "source": [
    "Extra statistics for the above calculation:"
   ]
  },
  {
   "cell_type": "code",
   "execution_count": 83,
   "metadata": {},
   "outputs": [
    {
     "name": "stdout",
     "output_type": "stream",
     "text": [
      "ERESTXTXXNTDHZJVXOHRBLKQYGOBDFNNLEHWPWOEZGFZVOBMPKIUCDRPKFSBZONXEVYWIWBOCNBMNNOLIUMPUSEKWHGHVOMKA\n",
      "Frequencies: Counter({'o': 8, 'n': 7, 'e': 6, 'b': 6, 'x': 5, 'h': 5, 'k': 5, 'w': 5, 'z': 4, 'v': 4, 'p': 4, 'm': 4, 'r': 3, 's': 3, 't': 3, 'd': 3, 'l': 3, 'g': 3, 'f': 3, 'i': 3, 'u': 3, 'y': 2, 'c': 2, 'j': 1, 'q': 1, 'a': 1})\n",
      "Index of Coincidence calculations:\n",
      "Non-normalized, starting at 0 , slice size 8 : 0.02564102564102564\n",
      "Normalized, starting at 0 , slice size 8 : 0.6666666666666666\n",
      "\n",
      "\n",
      "Non-normalized, starting at 1 , slice size 8 : 0.030303030303030304\n",
      "Normalized, starting at 1 , slice size 8 : 0.7878787878787878\n",
      "\n",
      "\n",
      "Non-normalized, starting at 2 , slice size 8 : 0.015151515151515152\n",
      "Normalized, starting at 2 , slice size 8 : 0.3939393939393939\n",
      "\n",
      "\n",
      "Non-normalized, starting at 3 , slice size 8 : 0.030303030303030304\n",
      "Normalized, starting at 3 , slice size 8 : 0.7878787878787878\n",
      "\n",
      "\n",
      "Non-normalized, starting at 4 , slice size 8 : 0.015151515151515152\n",
      "Normalized, starting at 4 , slice size 8 : 0.3939393939393939\n",
      "\n",
      "\n",
      "Non-normalized, starting at 5 , slice size 8 : 0.06060606060606061\n",
      "Normalized, starting at 5 , slice size 8 : 1.5757575757575757\n",
      "\n",
      "\n",
      "Non-normalized, starting at 6 , slice size 8 : 0.045454545454545456\n",
      "Normalized, starting at 6 , slice size 8 : 1.1818181818181819\n",
      "\n",
      "\n",
      "Non-normalized, starting at 7 , slice size 8 : 0.030303030303030304\n",
      "Normalized, starting at 7 , slice size 8 : 0.7878787878787878\n",
      "\n",
      "\n",
      "Average non-normalized IC: 0.03161421911421912\n",
      "Average normalized IC: 0.8219696969696971\n"
     ]
    },
    {
     "data": {
      "text/plain": [
       "0.25291375291375295"
      ]
     },
     "execution_count": 83,
     "metadata": {},
     "output_type": "execute_result"
    }
   ],
   "source": [
    "print(best_plain)\n",
    "print(\"Frequencies:\", frequencies(best_plain))\n",
    "print(\"Index of Coincidence calculations:\")\n",
    "findICs(8, best_plain)"
   ]
  },
  {
   "cell_type": "markdown",
   "metadata": {},
   "source": [
    "Ewwww. That's not very promising. But what if we have the hypothesized middletext $s'$, and have some masked text that can be unmasked and decrypted? Perhaps the masking technique, in squeezing frequnecies, swapped some character pairs.\n",
    "\n",
    "We can try naively running through some Vigenere decryptions to see if we get any promising frequency distributions, but otherwise, I'm not sure how to proceed from here."
   ]
  },
  {
   "cell_type": "code",
   "execution_count": 85,
   "metadata": {},
   "outputs": [
    {
     "data": {
      "text/plain": [
       "{'p': 8,\n",
       " 'u': 7,\n",
       " 'm': 6,\n",
       " 'x': 6,\n",
       " 'n': 6,\n",
       " 'j': 6,\n",
       " 'z': 5,\n",
       " 'd': 5,\n",
       " 'f': 5,\n",
       " 'c': 5,\n",
       " 'q': 5,\n",
       " 'w': 5,\n",
       " 'b': 4,\n",
       " 'v': 4,\n",
       " 'o': 4,\n",
       " 'g': 3,\n",
       " 't': 3,\n",
       " 'a': 2,\n",
       " 'r': 2,\n",
       " 'e': 2,\n",
       " 'i': 1,\n",
       " 'h': 1,\n",
       " 'y': 1,\n",
       " 'k': 1}"
      ]
     },
     "execution_count": 85,
     "metadata": {},
     "output_type": "execute_result"
    }
   ],
   "source": [
    "naive_key = \"PYRAMID\"\n",
    "\n",
    "soln = decodeVigenere(best_plain, naive_key, kryptos_tableau)\n",
    "freqs = frequencies(soln)\n",
    "dict(sorted(freqs.items(), key=lambda x: x[1], reverse=True))"
   ]
  },
  {
   "cell_type": "markdown",
   "metadata": {},
   "source": [
    "### Method 2: Hill Cipher Decryption using BERLINCLOCK as a crib\n",
    "\n",
    "I tried this on paper. Led to a bunch of fractions. Not very elegant.\n",
    "\n",
    "\n",
    "### Method 3: Foursquare\n",
    "\n",
    "To start, let's run 2-gram analysis on K4 and English.\n",
    "\n"
   ]
  },
  {
   "cell_type": "code",
   "execution_count": 100,
   "metadata": {},
   "outputs": [
    {
     "data": {
      "image/png": "[encoded data removed]",
      "text/plain": [
       "<Figure size 1440x1280 with 1 Axes>"
      ]
     },
     "metadata": {},
     "output_type": "display_data"
    },
    {
     "data": {
      "image/png": "[encoded data removed]",
      "text/plain": [
       "<Figure size 1440x1280 with 1 Axes>"
      ]
     },
     "metadata": {},
     "output_type": "display_data"
    }
   ],
   "source": [
    "def nGramAnalysis(string, size):\n",
    "    ngramCounts = {}\n",
    "    len_string = len(string)\n",
    "    string = string + string # padding the string\n",
    "    for i in range(len_string):\n",
    "        segment = string[i:i+size]\n",
    "        if segment in ngramCounts:\n",
    "            ngramCounts[segment] += 1\n",
    "        else:\n",
    "            ngramCounts[segment] = 1\n",
    "    return dict(sorted(ngramCounts.items(), key=lambda x: x[1], reverse=True))\n",
    "\n",
    "labels, values = zip(*nGramAnalysis(k4, 2).items())\n",
    "indexes = np.arange(len(labels))\n",
    "width = 1\n",
    "\n",
    "fig=plt.figure(figsize=(18, 16), dpi= 80, facecolor='w', edgecolor='k')\n",
    "plt.bar(indexes, values, width, edgecolor=\"black\")\n",
    "plt.xticks(indexes + width * 0.5, labels, rotation=90)\n",
    "\n",
    "plt.show()\n",
    "\n",
    "labels, values = zip(*dict(sorted(_2_grams.items(), key=lambda x: x[1], reverse=True)[:100]).items())\n",
    "indexes = np.arange(len(labels))\n",
    "width = 1\n",
    "\n",
    "fig=plt.figure(figsize=(18, 16), dpi= 80, facecolor='w', edgecolor='k')\n",
    "plt.bar(indexes, values, width, edgecolor=\"black\")\n",
    "plt.xticks(indexes + width * 0.5, labels, rotation=90)\n",
    "\n",
    "plt.show()"
   ]
  },
  {
   "cell_type": "markdown",
   "metadata": {},
   "source": [
    "As expected, 2-grams in English follow a Pareto distribution-like probability mass function, while the K4 corpus (which is pretty short) does...whatever it's doing up there. It looks nothing like the long tailed distribution of the English language. "
   ]
  },
  {
   "cell_type": "markdown",
   "metadata": {},
   "source": [
    "## Other Fun Coincidences\n",
    "\n",
    "Recall the coordinates in the plaintext of K2: `38* 57' 6.5\" N 77* 8' 44\" W`. If we add up those digits, we get 64, and keeping a cumulative sum, nothing super-meaningful happens. \n",
    "\n",
    "However, if you begin summing from the **ordinate** of the coordinates (the second element of a coordinate system, the counterpart to the **abscissa**), you reach:\n",
    "\n",
    "$7 + 7 + 8 + 4 + 4 + 3 + 8 + 5 + 7 + 6 + 5 + 7 + 7 + 8 + 4 + 4 + 3 = 97$\n",
    "\n",
    "This is exactly the length of k4. \n",
    "\n",
    "The coordinates are very near Kryptos, which was likely intentional, and it would be very difficult to contrive a passphrase of this exact shape given real-world coordinates. But, as we know, the coordinates are slightly off. There's a lot of speculation about what it points to — *what if the discrepancy is intentional, and part of the message?*\n",
    "\n",
    "$\\therefore$\n",
    "\n",
    "### Hypothesis S0 (S for silly): The key to solving K4 is in a phrase with exactly the shape described in the sum above.\n",
    "\n",
    "Extra tinfoil: the length of Berlin is 6 and Clock is 5. 6 and 5 are next to each other in the above sum. Coincidence??? I dunno, probably.\n",
    "\n",
    "Ok, tinfoil hat off. It is also incredibly unlikely for a phrase to take this shape given how common 2 and 3-letter words are. This also belies the masking => encryption model hinted at by JS.\n",
    "\n",
    "\n",
    "#### Addendum to S0\n",
    "\n",
    "However, as Page 10.1 of the uploaded field manual of cryptoanalysis [notes](https://xa.yimg.com/df/Kryptos/ch10.pdf?token=YVi-YsY3RpNZAtW4YdlyW2ODzeOQkQVrYEmusdKY4d5Fm1HFZKEP-3_gpwpUsU6yCRDSyWvLbYkQMqq7g9a5HWC28ZmVHwjhFJoYxd8_vNp9QcCeP_Smtwed35HeXdhFLJ1FpNdP31JU3TSyhIB3lmGyL4mzPCnzAHwUXfBXpIvs&type=download), the digits 3 through 8 (6 total digits) could be arranged in such a way with a keyword to produce a table like the diagram shown.  "
   ]
  },
  {
   "cell_type": "code",
   "execution_count": null,
   "metadata": {},
   "outputs": [],
   "source": []
  }
 ],
 "metadata": {
  "kernelspec": {
   "display_name": "Python 3",
   "language": "python",
   "name": "python3"
  },
  "language_info": {
   "codemirror_mode": {
    "name": "ipython",
    "version": 3
   },
   "file_extension": ".py",
   "mimetype": "text/x-python",
   "name": "python",
   "nbconvert_exporter": "python",
   "pygments_lexer": "ipython3",
   "version": "3.6.6"
  }
 },
 "nbformat": 4,
 "nbformat_minor": 2
}
